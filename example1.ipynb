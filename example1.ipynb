{
 "cells": [
  {
   "cell_type": "code",
   "execution_count": 1,
   "metadata": {
    "ExecuteTime": {
     "end_time": "2019-06-23T15:31:05.505215Z",
     "start_time": "2019-06-23T15:31:05.481491Z"
    }
   },
   "outputs": [],
   "source": [
    "%load_ext autoreload\n",
    "%autoreload 2"
   ]
  },
  {
   "cell_type": "code",
   "execution_count": 2,
   "metadata": {
    "ExecuteTime": {
     "end_time": "2019-06-23T15:31:07.197959Z",
     "start_time": "2019-06-23T15:31:05.507216Z"
    }
   },
   "outputs": [],
   "source": [
    "import numpy as np\n",
    "import mxnet as mx\n",
    "from mxnet import gluon\n",
    "import pandas as pd\n",
    "import matplotlib.pyplot as plt\n",
    "from tqdm import tqdm\n",
    "import random\n",
    "import math\n",
    "\n",
    "import sys\n",
    "import os\n",
    "module_path = os.path.abspath(os.path.join('./'))\n",
    "if module_path not in sys.path:\n",
    "    sys.path.append(module_path)"
   ]
  },
  {
   "cell_type": "markdown",
   "metadata": {},
   "source": [
    "## Fixing random seed"
   ]
  },
  {
   "cell_type": "code",
   "execution_count": 3,
   "metadata": {
    "ExecuteTime": {
     "end_time": "2019-06-23T15:31:07.231066Z",
     "start_time": "2019-06-23T15:31:07.199825Z"
    }
   },
   "outputs": [],
   "source": [
    "seed_number = 42\n",
    "random.seed(seed_number)\n",
    "np.random.seed(seed_number)\n",
    "mx.random.seed(seed_number)"
   ]
  },
  {
   "cell_type": "markdown",
   "metadata": {
    "ExecuteTime": {
     "end_time": "2019-06-23T13:06:42.221477Z",
     "start_time": "2019-06-23T13:06:41.358Z"
    }
   },
   "source": [
    "### Load example data; the data is from https://github.com/AmgadMansour/RankNET"
   ]
  },
  {
   "cell_type": "code",
   "execution_count": 4,
   "metadata": {
    "ExecuteTime": {
     "end_time": "2019-06-23T15:31:07.552089Z",
     "start_time": "2019-06-23T15:31:07.232355Z"
    }
   },
   "outputs": [
    {
     "name": "stdout",
     "output_type": "stream",
     "text": [
      "(20005, 60)\n"
     ]
    }
   ],
   "source": [
    "data = pd.read_csv('data/example1//article_train_clean.csv',index_col=False)\n",
    "print(data.shape)\n",
    "data.rename(columns={'Unnamed: 0':'article_id','shared':'n_shares',}, inplace=True)\n",
    "#Set article_id as index of the data frame (its values are used as labels for rows)\n",
    "data.set_index('article_id',inplace=True)"
   ]
  },
  {
   "cell_type": "code",
   "execution_count": 5,
   "metadata": {
    "ExecuteTime": {
     "end_time": "2019-06-23T15:31:07.966841Z",
     "start_time": "2019-06-23T15:31:07.553450Z"
    }
   },
   "outputs": [
    {
     "name": "stdout",
     "output_type": "stream",
     "text": [
      "20005\n"
     ]
    }
   ],
   "source": [
    "q_col = pd.read_excel('data/example1/query_column.xlsx')\n",
    "q_col = q_col['q_id'].tolist()\n",
    "print(len(q_col))\n",
    "data.insert(1, 'q_id',q_col)"
   ]
  },
  {
   "cell_type": "code",
   "execution_count": 6,
   "metadata": {
    "ExecuteTime": {
     "end_time": "2019-06-23T15:31:08.002416Z",
     "start_time": "2019-06-23T15:31:07.968347Z"
    }
   },
   "outputs": [
    {
     "name": "stdout",
     "output_type": "stream",
     "text": [
      "n_shares    1100.000000\n",
      "q_id           2.000000\n",
      "c1             0.333333\n",
      "Name: 46, dtype: float64\n"
     ]
    }
   ],
   "source": [
    "#making sure data is loaded correctly\n",
    "#qid_1(1-24)\n",
    "#qid_2(25-46)--last n_shares = 1100\n",
    "#qid_3(47-..)--first n_shares = 776\n",
    "art_id = 46\n",
    "print(data.loc[art_id , ['n_shares', 'q_id','c1'] ])\n",
    "nq = data['q_id'].nunique()  # 360 total queries"
   ]
  },
  {
   "cell_type": "code",
   "execution_count": 7,
   "metadata": {
    "ExecuteTime": {
     "end_time": "2019-06-23T15:31:08.183770Z",
     "start_time": "2019-06-23T15:31:08.003891Z"
    }
   },
   "outputs": [],
   "source": [
    "X_val = data.query('1 <= q_id <= 72')\n",
    "X_train = data.query('73 <= q_id <= 288')\n",
    "X_test = data.query('289 <= q_id <= 360')\n",
    "\n",
    "y_val =  X_val.loc[:,['n_shares','q_id']]\n",
    "X_val = X_val.drop([\"n_shares\"], axis = 1)\n",
    "y_train =  X_train.loc[:,['n_shares','q_id']]\n",
    "X_train = X_train.drop([\"n_shares\"], axis = 1)\n",
    "y_test =  X_test.loc[:,['n_shares','q_id']]\n",
    "X_test = X_test.drop([\"n_shares\"], axis = 1)"
   ]
  },
  {
   "cell_type": "markdown",
   "metadata": {},
   "source": [
    "# Training data prep"
   ]
  },
  {
   "cell_type": "code",
   "execution_count": 8,
   "metadata": {
    "ExecuteTime": {
     "end_time": "2019-06-23T15:31:08.637350Z",
     "start_time": "2019-06-23T15:31:08.185114Z"
    }
   },
   "outputs": [],
   "source": [
    "train_qid = X_train.q_id.unique()\n",
    "val_qid = X_val.q_id.unique()\n",
    "test_qid = X_test.q_id.unique()\n",
    "\n",
    "data_lists = dict()\n",
    "\n",
    "for qid in train_qid:\n",
    "    data_lists[qid] = dict()\n",
    "    data_lists[qid]['X'] = X_train[X_train['q_id'] == qid].drop([\"q_id\"], axis=1).values.astype('float32')\n",
    "    data_lists[qid]['y'] = y_train[y_train['q_id'] == qid]['n_shares'].values.astype('float32')\n",
    "\n",
    "for qid in val_qid:\n",
    "    data_lists[qid] = dict()\n",
    "    data_lists[qid]['X'] = X_val[X_val['q_id'] == qid].drop([\"q_id\"], axis=1).values.astype('float32')\n",
    "    data_lists[qid]['y'] = y_val[y_val['q_id'] == qid]['n_shares'].values.astype('float32')\n",
    "\n",
    "for qid in test_qid:\n",
    "    data_lists[qid] = dict()\n",
    "    data_lists[qid]['X'] = X_test[X_test['q_id'] == qid].drop([\"q_id\"], axis=1).values.astype('float32')\n",
    "    data_lists[qid]['y'] = y_test[y_test['q_id'] == qid]['n_shares'].values.astype('float32')"
   ]
  },
  {
   "cell_type": "code",
   "execution_count": 9,
   "metadata": {
    "ExecuteTime": {
     "end_time": "2019-06-23T15:31:08.662226Z",
     "start_time": "2019-06-23T15:31:08.638410Z"
    }
   },
   "outputs": [
    {
     "name": "stdout",
     "output_type": "stream",
     "text": [
      "360\n"
     ]
    }
   ],
   "source": [
    "print(len(data_lists))"
   ]
  },
  {
   "cell_type": "code",
   "execution_count": 10,
   "metadata": {
    "ExecuteTime": {
     "end_time": "2019-06-23T15:31:17.519442Z",
     "start_time": "2019-06-23T15:31:08.663455Z"
    }
   },
   "outputs": [
    {
     "name": "stdout",
     "output_type": "stream",
     "text": [
      "n_train 2160000\n",
      "n_val 720000\n"
     ]
    }
   ],
   "source": [
    "from rank_utils.data import list2pairs, batcify_func\n",
    "n_samples = 10000\n",
    "\n",
    "train_pairs = []\n",
    "for qid in train_qid:\n",
    "    train_pairs += list2pairs(data_lists[qid]['X'], data_lists[qid]['y'], n_samples)\n",
    "\n",
    "val_pairs = []\n",
    "for qid in val_qid:\n",
    "    val_pairs += list2pairs(data_lists[qid]['X'], data_lists[qid]['y'], n_samples)\n",
    "\n",
    "print('n_train', len(train_pairs))\n",
    "print('n_val', len(val_pairs))"
   ]
  },
  {
   "cell_type": "code",
   "execution_count": 11,
   "metadata": {
    "ExecuteTime": {
     "end_time": "2019-06-23T15:31:17.571792Z",
     "start_time": "2019-06-23T15:31:17.521413Z"
    }
   },
   "outputs": [],
   "source": [
    "batch_size = 1024\n",
    "\n",
    "train_ds = gluon.data.SimpleDataset(train_pairs)\n",
    "train_iter = gluon.data.DataLoader(train_ds, batch_size=batch_size, batchify_fn=batcify_func,\n",
    "                                      shuffle=True, num_workers=1, last_batch='discard')\n",
    "val_ds = gluon.data.SimpleDataset(val_pairs)\n",
    "val_iter = gluon.data.DataLoader(val_ds, batch_size=batch_size, batchify_fn=batcify_func,\n",
    "                                    shuffle=False, num_workers=1, last_batch='discard')"
   ]
  },
  {
   "cell_type": "markdown",
   "metadata": {},
   "source": [
    "# Simple training loop, from scratch"
   ]
  },
  {
   "cell_type": "markdown",
   "metadata": {},
   "source": [
    "## Model definition"
   ]
  },
  {
   "cell_type": "code",
   "execution_count": 12,
   "metadata": {
    "ExecuteTime": {
     "end_time": "2019-06-23T15:31:17.620678Z",
     "start_time": "2019-06-23T15:31:17.575135Z"
    }
   },
   "outputs": [
    {
     "name": "stdout",
     "output_type": "stream",
     "text": [
      "Hyperparameters:\n",
      "{'mlp_act': 'softrelu',\n",
      " 'mlp_layers': [5,\n",
      "                5],\n",
      " 'output_act': None}\n"
     ]
    }
   ],
   "source": [
    "from rank_utils.models import HParamsMLP, ModelMLP, RankNet\n",
    "hp = HParamsMLP(mlp_layers=[5,5])\n",
    "mlp = ModelMLP(hp)\n",
    "model = RankNet(mlp)"
   ]
  },
  {
   "cell_type": "markdown",
   "metadata": {},
   "source": [
    "## Model initialization and trainer setup"
   ]
  },
  {
   "cell_type": "code",
   "execution_count": 13,
   "metadata": {
    "ExecuteTime": {
     "end_time": "2019-06-23T15:31:17.651797Z",
     "start_time": "2019-06-23T15:31:17.622018Z"
    }
   },
   "outputs": [],
   "source": [
    "model_ctx = mx.cpu()  # can be mx.gpu(1), mx.gpu(2), etc\n",
    "model.collect_params().initialize(mx.init.Uniform(.01), ctx=model_ctx)"
   ]
  },
  {
   "cell_type": "code",
   "execution_count": 14,
   "metadata": {
    "ExecuteTime": {
     "end_time": "2019-06-23T15:31:17.679997Z",
     "start_time": "2019-06-23T15:31:17.653059Z"
    }
   },
   "outputs": [],
   "source": [
    "optimizer_name = 'adam'\n",
    "optimizer_settings = {'learning_rate': .001, 'wd': 0}\n",
    "trainer = gluon.Trainer(model.collect_params(), optimizer_name, optimizer_settings)"
   ]
  },
  {
   "cell_type": "markdown",
   "metadata": {},
   "source": [
    "## Training and evaluation loop"
   ]
  },
  {
   "cell_type": "code",
   "execution_count": 15,
   "metadata": {
    "ExecuteTime": {
     "end_time": "2019-06-23T15:32:06.555964Z",
     "start_time": "2019-06-23T15:31:17.681361Z"
    }
   },
   "outputs": [
    {
     "data": {
      "application/vnd.jupyter.widget-view+json": {
       "model_id": "9e7a8a410f9e47068b23334d488bfdc7",
       "version_major": 2,
       "version_minor": 0
      },
      "text/plain": [
       "HBox(children=(IntProgress(value=0, max=2109), HTML(value='')))"
      ]
     },
     "metadata": {},
     "output_type": "display_data"
    },
    {
     "name": "stdout",
     "output_type": "stream",
     "text": [
      "\n",
      "epoch 0: loss (train) 0.8538; ndcg@10 (train): 0.3972, ndcg@10 (val): 0.4005\n"
     ]
    },
    {
     "data": {
      "application/vnd.jupyter.widget-view+json": {
       "model_id": "93d863c112084a34b930bb3c661a230d",
       "version_major": 2,
       "version_minor": 0
      },
      "text/plain": [
       "HBox(children=(IntProgress(value=0, max=2109), HTML(value='')))"
      ]
     },
     "metadata": {},
     "output_type": "display_data"
    },
    {
     "name": "stdout",
     "output_type": "stream",
     "text": [
      "\n",
      "epoch 1: loss (train) 0.8290; ndcg@10 (train): 0.4103, ndcg@10 (val): 0.4165\n"
     ]
    },
    {
     "data": {
      "application/vnd.jupyter.widget-view+json": {
       "model_id": "44fc9c7c84e045dc9f916c20e2723572",
       "version_major": 2,
       "version_minor": 0
      },
      "text/plain": [
       "HBox(children=(IntProgress(value=0, max=2109), HTML(value='')))"
      ]
     },
     "metadata": {},
     "output_type": "display_data"
    },
    {
     "name": "stdout",
     "output_type": "stream",
     "text": [
      "\n",
      "epoch 2: loss (train) 0.8207; ndcg@10 (train): 0.4081, ndcg@10 (val): 0.4096\n"
     ]
    },
    {
     "data": {
      "application/vnd.jupyter.widget-view+json": {
       "model_id": "bc2f0a6ef2c94e93b8bd741ac3d96648",
       "version_major": 2,
       "version_minor": 0
      },
      "text/plain": [
       "HBox(children=(IntProgress(value=0, max=2109), HTML(value='')))"
      ]
     },
     "metadata": {},
     "output_type": "display_data"
    },
    {
     "name": "stdout",
     "output_type": "stream",
     "text": [
      "\n",
      "epoch 3: loss (train) 0.8167; ndcg@10 (train): 0.4091, ndcg@10 (val): 0.4082\n"
     ]
    },
    {
     "data": {
      "application/vnd.jupyter.widget-view+json": {
       "model_id": "ad1c7156b59e4116a8009244acb47743",
       "version_major": 2,
       "version_minor": 0
      },
      "text/plain": [
       "HBox(children=(IntProgress(value=0, max=2109), HTML(value='')))"
      ]
     },
     "metadata": {},
     "output_type": "display_data"
    },
    {
     "name": "stdout",
     "output_type": "stream",
     "text": [
      "\n",
      "epoch 4: loss (train) 0.8148; ndcg@10 (train): 0.4108, ndcg@10 (val): 0.4086\n"
     ]
    }
   ],
   "source": [
    "from mxnet import autograd\n",
    "from tqdm import tqdm_notebook\n",
    "from rank_utils.evaluations import ndcg\n",
    "ndcg10 = ndcg(10)\n",
    "\n",
    "for epoch in range(5):\n",
    "\n",
    "    train_loss = []\n",
    "    for b in tqdm_notebook(train_iter):\n",
    "        with autograd.record():\n",
    "            loss = model(*b)\n",
    "        loss.backward()\n",
    "        trainer.step(batch_size)\n",
    "        train_loss.append(np.mean(loss.asnumpy()))\n",
    "\n",
    "    train_ndcgs = []\n",
    "    for qid in train_qid:\n",
    "        test_score = model.scorer(mx.nd.array(data_lists[qid]['X']))\n",
    "        tmp = ndcg10(y_true=data_lists[qid]['y'], y_pred=test_score.asnumpy())\n",
    "        train_ndcgs.append(tmp)\n",
    "\n",
    "    test_ndcgs = []\n",
    "    for qid in val_qid:\n",
    "        test_score = model.scorer(mx.nd.array(data_lists[qid]['X']))\n",
    "        tmp = ndcg10(y_true=data_lists[qid]['y'], y_pred=test_score.asnumpy())\n",
    "        test_ndcgs.append(tmp)\n",
    "\n",
    "    print(\n",
    "        'epoch {}: loss (train) {:.4f}; ndcg@10 (train): {:.4f}, ndcg@10 (val): {:.4f}'\n",
    "        .format(epoch, np.mean(train_loss), np.mean(train_ndcgs), np.mean(test_ndcgs)))"
   ]
  },
  {
   "cell_type": "markdown",
   "metadata": {},
   "source": [
    "# Training with `model_trainer`"
   ]
  },
  {
   "cell_type": "code",
   "execution_count": 16,
   "metadata": {
    "ExecuteTime": {
     "end_time": "2019-06-23T15:32:06.583934Z",
     "start_time": "2019-06-23T15:32:06.557025Z"
    }
   },
   "outputs": [
    {
     "name": "stdout",
     "output_type": "stream",
     "text": [
      "Hyperparameters:\n",
      "{'mlp_act': 'softrelu',\n",
      " 'mlp_layers': [5,\n",
      "                5],\n",
      " 'output_act': None}\n"
     ]
    }
   ],
   "source": [
    "# instantiated a new model\n",
    "from rank_utils.models import HParamsMLP, ModelMLP, RankNet\n",
    "hp = HParamsMLP(mlp_layers=[5,5])\n",
    "mlp = ModelMLP(hp)\n",
    "model = RankNet(mlp)\n",
    "\n",
    "model_ctx = mx.cpu()  # can be mx.gpu(1), mx.gpu(2), etc\n",
    "model.collect_params().initialize(mx.init.Uniform(.01), ctx=model_ctx)\n",
    "\n",
    "optimizer_name = 'adam'\n",
    "optimizer_settings = {'learning_rate': .001, 'wd': 0}\n",
    "trainer = gluon.Trainer(model.collect_params(), optimizer_name, optimizer_settings)"
   ]
  },
  {
   "cell_type": "code",
   "execution_count": 17,
   "metadata": {
    "ExecuteTime": {
     "end_time": "2019-06-23T15:32:06.831217Z",
     "start_time": "2019-06-23T15:32:06.584956Z"
    }
   },
   "outputs": [],
   "source": [
    "from rank_utils.model_trainer import ModelTrainer"
   ]
  },
  {
   "cell_type": "code",
   "execution_count": 18,
   "metadata": {
    "ExecuteTime": {
     "end_time": "2019-06-23T15:32:06.864352Z",
     "start_time": "2019-06-23T15:32:06.832480Z"
    }
   },
   "outputs": [],
   "source": [
    "# optionally we can define a few external_eval_calls\n",
    "from functools import partial\n",
    "def ext_ndcg_eval(mt, tag, ndcg_func=ndcg(10)):\n",
    "    if tag=='train':\n",
    "        qid_list = train_qid\n",
    "    elif tag=='val':\n",
    "        qid_list = val_qid\n",
    "    else:\n",
    "        qid_list = test_qid\n",
    "    \n",
    "    ndcgs = []\n",
    "    for qid in qid_list:\n",
    "        test_score = mt.mod.scorer(mx.nd.array(data_lists[qid]['X']))\n",
    "        tmp = ndcg_func(y_true=data_lists[qid]['y'], y_pred=test_score.asnumpy())\n",
    "        ndcgs.append(tmp)\n",
    "    return np.mean(ndcgs)\n",
    "\n",
    "ndcg5_eval = {'name': 'ndcg@5', \n",
    "              'funcs': {'train': partial(ext_ndcg_eval, tag='train', ndcg_func=ndcg(5)),\n",
    "                        'val': partial(ext_ndcg_eval, tag='val', ndcg_func=ndcg(5))                      \n",
    "                       }\n",
    "             }\n",
    "ndcg10_eval = {'name': 'ndcg@10', \n",
    "              'funcs': {'train': partial(ext_ndcg_eval, tag='train', ndcg_func=ndcg(10)),\n",
    "                        'val': partial(ext_ndcg_eval, tag='val', ndcg_func=ndcg(10))                      \n",
    "                       }\n",
    "             }\n",
    "external_eval_calls = [ndcg5_eval, ndcg10_eval]\n",
    "# external_eval_calls = []"
   ]
  },
  {
   "cell_type": "code",
   "execution_count": 19,
   "metadata": {
    "ExecuteTime": {
     "end_time": "2019-06-23T15:32:06.893945Z",
     "start_time": "2019-06-23T15:32:06.865574Z"
    }
   },
   "outputs": [
    {
     "name": "stdout",
     "output_type": "stream",
     "text": [
      "ES patience 10, LR reduce patience 3, eps 0.0001\n"
     ]
    }
   ],
   "source": [
    "mt = ModelTrainer(gluon_model=model, gluon_trainer=trainer, model_ctx=model_ctx, \n",
    "                  train_iter=train_iter, val_iter=val_iter, \n",
    "                  evals_per_epoch=10,\n",
    "                  external_eval_calls=external_eval_calls)"
   ]
  },
  {
   "cell_type": "code",
   "execution_count": 20,
   "metadata": {
    "ExecuteTime": {
     "end_time": "2019-06-23T15:33:33.078711Z",
     "start_time": "2019-06-23T15:32:06.895079Z"
    },
    "scrolled": false
   },
   "outputs": [
    {
     "name": "stdout",
     "output_type": "stream",
     "text": [
      "modelmlp1_dense0_weight (5, 58)\n",
      "modelmlp1_dense0_bias (5,)\n",
      "modelmlp1_dense1_weight (5, 5)\n",
      "modelmlp1_dense1_bias (5,)\n",
      "modelmlp1_dense2_weight (1, 5)\n",
      "modelmlp1_dense2_bias (1,)\n",
      "total params 331\n",
      "# params: 331\n",
      "# embedding params: 0\n",
      "# params excluding emb: 331\n",
      "--------------------------------------------------------------------------------\n",
      "        Layer (type)                                Output Shape         Param #\n",
      "================================================================================\n",
      "               Input  (1024, 58), (1024, 58), (1024, 1), (1024, 1)               0\n",
      "        Activation-1                                   (1024, 5)               0\n",
      "             Dense-2                                   (1024, 5)             295\n",
      "        Activation-3                                   (1024, 5)               0\n",
      "             Dense-4                                   (1024, 5)              30\n",
      "             Dense-5                                   (1024, 1)               6\n",
      "          ModelMLP-6                                   (1024, 1)               0\n",
      "        Activation-7                                   (1024, 5)               0\n",
      "             Dense-8                                   (1024, 5)             295\n",
      "        Activation-9                                   (1024, 5)               0\n",
      "            Dense-10                                   (1024, 5)              30\n",
      "            Dense-11                                   (1024, 1)               6\n",
      "         ModelMLP-12                                   (1024, 1)               0\n",
      "          RankNet-13                                   (1024, 1)               0\n",
      "================================================================================\n",
      "Parameters in forward computation graph, duplicate included\n",
      "   Total params: 662\n",
      "   Trainable params: 662\n",
      "   Non-trainable params: 0\n",
      "Shared params in forward computation graph: 331\n",
      "Unique parameters in model: 331\n",
      "--------------------------------------------------------------------------------\n",
      "E0 B211 C0: [loss] 0.9476/0.8492 (train/val) [ndcg@5] 0.2770/0.2795 (train/val) [ndcg@10] 0.3496/0.3617 (train/val) \n",
      "Time elapsed in epoch: 2.94s. Time elapsed in eval 2.94s.\n",
      "[Train: 1.02s, IntEval 1.71s, ExtEval 0.21s][Train throughput: 211396.58/s]\n",
      "E0 B422 C1: [loss] 0.9025/0.8375 (train/val) [ndcg@5] 0.2875/0.2904 (train/val) [ndcg@10] 0.3684/0.3806 (train/val) \n",
      "Time elapsed in epoch: 5.80s. Time elapsed in eval 2.86s.\n",
      "[Train: 1.04s, IntEval 1.62s, ExtEval 0.21s][Train throughput: 208728.81/s]\n",
      "E0 B633 C2: [loss] 0.8851/0.8351 (train/val) [ndcg@5] 0.2973/0.2935 (train/val) [ndcg@10] 0.3762/0.3862 (train/val) \n",
      "Time elapsed in epoch: 8.56s. Time elapsed in eval 2.75s.\n",
      "[Train: 0.97s, IntEval 1.59s, ExtEval 0.20s][Train throughput: 223897.77/s]\n",
      "EarlyStopping: best val loss 0.8351 @ current eval, params saved to /Users/ran.ding/model_results/EQJFGRB3_inharmonious-interception/EQJFGRB3_inharmonious-interception_model_ES.params\n",
      "E0 B844 C3: [loss] 0.8756/0.8345 (train/val) [ndcg@5] 0.3118/0.3037 (train/val) [ndcg@10] 0.3858/0.3910 (train/val) \n",
      "Time elapsed in epoch: 11.35s. Time elapsed in eval 2.79s.\n",
      "[Train: 1.01s, IntEval 1.59s, ExtEval 0.20s][Train throughput: 214704.25/s]\n",
      "EarlyStopping: best val loss 0.8345 @ current eval, params saved to /Users/ran.ding/model_results/EQJFGRB3_inharmonious-interception/EQJFGRB3_inharmonious-interception_model_ES.params\n",
      "E0 B1055 C4: [loss] 0.8691/0.8339 (train/val) [ndcg@5] 0.3167/0.3011 (train/val) [ndcg@10] 0.3899/0.3872 (train/val) \n",
      "Time elapsed in epoch: 13.99s. Time elapsed in eval 2.65s.\n",
      "[Train: 0.94s, IntEval 1.51s, ExtEval 0.20s][Train throughput: 230751.06/s]\n",
      "EarlyStopping: best val loss 0.8339 @ current eval, params saved to /Users/ran.ding/model_results/EQJFGRB3_inharmonious-interception/EQJFGRB3_inharmonious-interception_model_ES.params\n",
      "E0 B1266 C5: [loss] 0.8645/0.8332 (train/val) [ndcg@5] 0.3177/0.3124 (train/val) [ndcg@10] 0.3904/0.3878 (train/val) \n",
      "Time elapsed in epoch: 16.69s. Time elapsed in eval 2.70s.\n",
      "[Train: 0.95s, IntEval 1.53s, ExtEval 0.22s][Train throughput: 226691.52/s]\n",
      "EarlyStopping: best val loss 0.8332 @ current eval, params saved to /Users/ran.ding/model_results/EQJFGRB3_inharmonious-interception/EQJFGRB3_inharmonious-interception_model_ES.params\n",
      "E0 B1477 C6: [loss] 0.8606/0.8327 (train/val) [ndcg@5] 0.3225/0.3194 (train/val) [ndcg@10] 0.3952/0.3966 (train/val) \n",
      "Time elapsed in epoch: 19.59s. Time elapsed in eval 2.90s.\n",
      "[Train: 1.01s, IntEval 1.67s, ExtEval 0.21s][Train throughput: 212940.79/s]\n",
      "EarlyStopping: best val loss 0.8327 @ current eval, params saved to /Users/ran.ding/model_results/EQJFGRB3_inharmonious-interception/EQJFGRB3_inharmonious-interception_model_ES.params\n",
      "E0 B1688 C7: [loss] 0.8577/0.8322 (train/val) [ndcg@5] 0.3279/0.3271 (train/val) [ndcg@10] 0.3976/0.3979 (train/val) \n",
      "Time elapsed in epoch: 22.25s. Time elapsed in eval 2.66s.\n",
      "[Train: 0.93s, IntEval 1.53s, ExtEval 0.20s][Train throughput: 231928.08/s]\n",
      "EarlyStopping: best val loss 0.8322 @ current eval, params saved to /Users/ran.ding/model_results/EQJFGRB3_inharmonious-interception/EQJFGRB3_inharmonious-interception_model_ES.params\n",
      "E0 B1899 C8: [loss] 0.8553/0.8324 (train/val) [ndcg@5] 0.3284/0.3220 (train/val) [ndcg@10] 0.4004/0.3973 (train/val) \n",
      "Time elapsed in epoch: 24.90s. Time elapsed in eval 2.65s.\n",
      "[Train: 0.95s, IntEval 1.50s, ExtEval 0.20s][Train throughput: 227721.59/s]\n",
      "EarlyStopping: ES patience 9 remaining. LR patience 2 remaining. Current/best loss: 0.8324@eval8 / 0.8322@eval7\n",
      "E0 B2109 C9: [loss] 0.8530/0.8314 (train/val) [ndcg@5] 0.3300/0.3271 (train/val) [ndcg@10] 0.4029/0.4039 (train/val) \n",
      "Time elapsed in epoch: 27.57s. Time elapsed in eval 2.66s.\n",
      "[Train: 0.93s, IntEval 1.52s, ExtEval 0.21s][Train throughput: 230085.30/s]\n",
      "EarlyStopping: best val loss 0.8314 @ current eval, params saved to /Users/ran.ding/model_results/EQJFGRB3_inharmonious-interception/EQJFGRB3_inharmonious-interception_model_ES.params\n",
      "E1 B211 C10: [loss] 0.8344/0.8313 (train/val) [ndcg@5] 0.3298/0.3262 (train/val) [ndcg@10] 0.4019/0.3944 (train/val) \n",
      "Time elapsed in epoch: 2.72s. Time elapsed in eval 2.72s.\n",
      "[Train: 1.02s, IntEval 1.50s, ExtEval 0.20s][Train throughput: 211359.35/s]\n",
      "EarlyStopping: best val loss 0.8313 @ current eval, params saved to /Users/ran.ding/model_results/EQJFGRB3_inharmonious-interception/EQJFGRB3_inharmonious-interception_model_ES.params\n",
      "E1 B422 C11: [loss] 0.8336/0.8301 (train/val) [ndcg@5] 0.3316/0.3298 (train/val) [ndcg@10] 0.4031/0.4092 (train/val) \n",
      "Time elapsed in epoch: 5.35s. Time elapsed in eval 2.63s.\n",
      "[Train: 0.94s, IntEval 1.50s, ExtEval 0.20s][Train throughput: 230850.16/s]\n",
      "EarlyStopping: best val loss 0.8301 @ current eval, params saved to /Users/ran.ding/model_results/EQJFGRB3_inharmonious-interception/EQJFGRB3_inharmonious-interception_model_ES.params\n",
      "E1 B633 C12: [loss] 0.8337/0.8284 (train/val) [ndcg@5] 0.3298/0.3279 (train/val) [ndcg@10] 0.4023/0.4064 (train/val) \n",
      "Time elapsed in epoch: 8.04s. Time elapsed in eval 2.69s.\n",
      "[Train: 0.94s, IntEval 1.54s, ExtEval 0.21s][Train throughput: 230337.76/s]\n",
      "EarlyStopping: best val loss 0.8284 @ current eval, params saved to /Users/ran.ding/model_results/EQJFGRB3_inharmonious-interception/EQJFGRB3_inharmonious-interception_model_ES.params\n",
      "E1 B844 C13: [loss] 0.8325/0.8286 (train/val) [ndcg@5] 0.3296/0.3233 (train/val) [ndcg@10] 0.4044/0.4053 (train/val) \n",
      "Time elapsed in epoch: 10.69s. Time elapsed in eval 2.65s.\n",
      "[Train: 0.95s, IntEval 1.50s, ExtEval 0.20s][Train throughput: 227047.17/s]\n",
      "EarlyStopping: ES patience 9 remaining. LR patience 2 remaining. Current/best loss: 0.8286@eval13 / 0.8284@eval12\n",
      "E1 B1055 C14: [loss] 0.8318/0.8272 (train/val) [ndcg@5] 0.3321/0.3247 (train/val) [ndcg@10] 0.4051/0.4121 (train/val) \n",
      "Time elapsed in epoch: 13.30s. Time elapsed in eval 2.61s.\n",
      "[Train: 0.93s, IntEval 1.48s, ExtEval 0.20s][Train throughput: 231728.64/s]\n",
      "EarlyStopping: best val loss 0.8272 @ current eval, params saved to /Users/ran.ding/model_results/EQJFGRB3_inharmonious-interception/EQJFGRB3_inharmonious-interception_model_ES.params\n",
      "E1 B1266 C15: [loss] 0.8314/0.8264 (train/val) [ndcg@5] 0.3331/0.3250 (train/val) [ndcg@10] 0.4052/0.4086 (train/val) \n",
      "Time elapsed in epoch: 15.92s. Time elapsed in eval 2.61s.\n",
      "[Train: 0.93s, IntEval 1.49s, ExtEval 0.20s][Train throughput: 233330.48/s]\n",
      "EarlyStopping: best val loss 0.8264 @ current eval, params saved to /Users/ran.ding/model_results/EQJFGRB3_inharmonious-interception/EQJFGRB3_inharmonious-interception_model_ES.params\n"
     ]
    },
    {
     "name": "stdout",
     "output_type": "stream",
     "text": [
      "E1 B1477 C16: [loss] 0.8306/0.8270 (train/val) [ndcg@5] 0.3276/0.3246 (train/val) [ndcg@10] 0.4050/0.4063 (train/val) \n",
      "Time elapsed in epoch: 18.57s. Time elapsed in eval 2.66s.\n",
      "[Train: 0.93s, IntEval 1.52s, ExtEval 0.20s][Train throughput: 231282.60/s]\n",
      "EarlyStopping: ES patience 9 remaining. LR patience 2 remaining. Current/best loss: 0.8270@eval16 / 0.8264@eval15\n",
      "E1 B1688 C17: [loss] 0.8295/0.8262 (train/val) [ndcg@5] 0.3333/0.3295 (train/val) [ndcg@10] 0.3996/0.4048 (train/val) \n",
      "Time elapsed in epoch: 21.19s. Time elapsed in eval 2.62s.\n",
      "[Train: 0.93s, IntEval 1.49s, ExtEval 0.20s][Train throughput: 233158.01/s]\n",
      "EarlyStopping: best val loss 0.8262 @ current eval, params saved to /Users/ran.ding/model_results/EQJFGRB3_inharmonious-interception/EQJFGRB3_inharmonious-interception_model_ES.params\n",
      "E1 B1899 C18: [loss] 0.8289/0.8259 (train/val) [ndcg@5] 0.3357/0.3239 (train/val) [ndcg@10] 0.4090/0.4078 (train/val) \n",
      "Time elapsed in epoch: 23.82s. Time elapsed in eval 2.63s.\n",
      "[Train: 0.94s, IntEval 1.49s, ExtEval 0.20s][Train throughput: 229513.48/s]\n",
      "EarlyStopping: best val loss 0.8259 @ current eval, params saved to /Users/ran.ding/model_results/EQJFGRB3_inharmonious-interception/EQJFGRB3_inharmonious-interception_model_ES.params\n",
      "E1 B2109 C19: [loss] 0.8285/0.8247 (train/val) [ndcg@5] 0.3378/0.3191 (train/val) [ndcg@10] 0.4093/0.4020 (train/val) \n",
      "Time elapsed in epoch: 26.43s. Time elapsed in eval 2.60s.\n",
      "[Train: 0.92s, IntEval 1.48s, ExtEval 0.20s][Train throughput: 233075.42/s]\n",
      "EarlyStopping: best val loss 0.8247 @ current eval, params saved to /Users/ran.ding/model_results/EQJFGRB3_inharmonious-interception/EQJFGRB3_inharmonious-interception_model_ES.params\n",
      "E2 B211 C20: [loss] 0.8215/0.8243 (train/val) [ndcg@5] 0.3378/0.3229 (train/val) [ndcg@10] 0.4085/0.4055 (train/val) \n",
      "Time elapsed in epoch: 2.68s. Time elapsed in eval 2.68s.\n",
      "[Train: 1.01s, IntEval 1.48s, ExtEval 0.20s][Train throughput: 214513.67/s]\n",
      "EarlyStopping: best val loss 0.8243 @ current eval, params saved to /Users/ran.ding/model_results/EQJFGRB3_inharmonious-interception/EQJFGRB3_inharmonious-interception_model_ES.params\n",
      "E2 B422 C21: [loss] 0.8209/0.8249 (train/val) [ndcg@5] 0.3374/0.3258 (train/val) [ndcg@10] 0.4124/0.4090 (train/val) \n",
      "Time elapsed in epoch: 5.30s. Time elapsed in eval 2.62s.\n",
      "[Train: 0.94s, IntEval 1.48s, ExtEval 0.20s][Train throughput: 230583.85/s]\n",
      "EarlyStopping: ES patience 9 remaining. LR patience 2 remaining. Current/best loss: 0.8249@eval21 / 0.8243@eval20\n",
      "E2 B633 C22: [loss] 0.8203/0.8240 (train/val) [ndcg@5] 0.3400/0.3260 (train/val) [ndcg@10] 0.4079/0.4071 (train/val) \n",
      "Time elapsed in epoch: 7.90s. Time elapsed in eval 2.60s.\n",
      "[Train: 0.93s, IntEval 1.46s, ExtEval 0.20s][Train throughput: 232266.96/s]\n",
      "EarlyStopping: best val loss 0.8240 @ current eval, params saved to /Users/ran.ding/model_results/EQJFGRB3_inharmonious-interception/EQJFGRB3_inharmonious-interception_model_ES.params\n",
      "E2 B844 C23: [loss] 0.8205/0.8235 (train/val) [ndcg@5] 0.3383/0.3250 (train/val) [ndcg@10] 0.4101/0.4068 (train/val) \n",
      "Time elapsed in epoch: 10.51s. Time elapsed in eval 2.61s.\n",
      "[Train: 0.93s, IntEval 1.48s, ExtEval 0.20s][Train throughput: 232509.38/s]\n",
      "EarlyStopping: best val loss 0.8235 @ current eval, params saved to /Users/ran.ding/model_results/EQJFGRB3_inharmonious-interception/EQJFGRB3_inharmonious-interception_model_ES.params\n",
      "E2 B1055 C24: [loss] 0.8199/0.8237 (train/val) [ndcg@5] 0.3388/0.3299 (train/val) [ndcg@10] 0.4115/0.4076 (train/val) \n",
      "Time elapsed in epoch: 13.14s. Time elapsed in eval 2.62s.\n",
      "[Train: 0.95s, IntEval 1.46s, ExtEval 0.21s][Train throughput: 227938.50/s]\n",
      "EarlyStopping: ES patience 9 remaining. LR patience 2 remaining. Current/best loss: 0.8237@eval24 / 0.8235@eval23\n",
      "E2 B1266 C25: [loss] 0.8196/0.8236 (train/val) [ndcg@5] 0.3359/0.3236 (train/val) [ndcg@10] 0.4055/0.4115 (train/val) \n",
      "Time elapsed in epoch: 15.85s. Time elapsed in eval 2.72s.\n",
      "[Train: 0.99s, IntEval 1.51s, ExtEval 0.21s][Train throughput: 217412.86/s]\n",
      "EarlyStopping: ES patience 8 remaining. LR patience 1 remaining. Current/best loss: 0.8236@eval25 / 0.8235@eval23\n",
      "E2 B1477 C26: [loss] 0.8194/0.8240 (train/val) [ndcg@5] 0.3343/0.3306 (train/val) [ndcg@10] 0.4072/0.4162 (train/val) \n",
      "Time elapsed in epoch: 18.58s. Time elapsed in eval 2.73s.\n",
      "[Train: 0.99s, IntEval 1.51s, ExtEval 0.22s][Train throughput: 218054.21/s]\n",
      "EarlyStopping: ES patience 7 remaining. LR patience 0 remaining. Current/best loss: 0.8240@eval26 / 0.8235@eval23\n",
      "E2 B1688 C27: [loss] 0.8190/0.8241 (train/val) [ndcg@5] 0.3342/0.3292 (train/val) [ndcg@10] 0.4071/0.4138 (train/val) \n",
      "Time elapsed in epoch: 21.25s. Time elapsed in eval 2.67s.\n",
      "[Train: 0.94s, IntEval 1.51s, ExtEval 0.22s][Train throughput: 229506.44/s]\n",
      "EarlyStopping: ES patience 6 remaining. LR patience (3) ran out. Current/best loss: 0.8241@eval27 / 0.8235@eval23\n",
      "LR updated: from 0.001 to 0.0007, lr_decay_count=1 (max=5)\n",
      "E2 B1899 C28: [loss] 0.8190/0.8237 (train/val) [ndcg@5] 0.3354/0.3260 (train/val) [ndcg@10] 0.4073/0.4070 (train/val) \n",
      "Time elapsed in epoch: 23.92s. Time elapsed in eval 2.67s.\n",
      "[Train: 0.94s, IntEval 1.52s, ExtEval 0.21s][Train throughput: 230421.04/s]\n",
      "EarlyStopping: ES patience 5 remaining. LR patience (3) ran out. Current/best loss: 0.8237@eval28 / 0.8235@eval23\n",
      "LR updated: from 0.0007 to 0.00049, lr_decay_count=2 (max=5)\n",
      "E2 B2109 C29: [loss] 0.8189/0.8237 (train/val) [ndcg@5] 0.3370/0.3229 (train/val) [ndcg@10] 0.4068/0.4036 (train/val) \n",
      "Time elapsed in epoch: 26.62s. Time elapsed in eval 2.70s.\n",
      "[Train: 0.96s, IntEval 1.52s, ExtEval 0.22s][Train throughput: 225007.14/s]\n",
      "EarlyStopping: ES patience 4 remaining. LR patience (3) ran out. Current/best loss: 0.8237@eval29 / 0.8235@eval23\n",
      "LR updated: from 0.00049 to 0.000343, lr_decay_count=3 (max=5)\n",
      "E3 B211 C30: [loss] 0.8166/0.8236 (train/val) [ndcg@5] 0.3335/0.3173 (train/val) [ndcg@10] 0.4066/0.4046 (train/val) \n",
      "Time elapsed in epoch: 2.81s. Time elapsed in eval 2.81s.\n",
      "[Train: 1.00s, IntEval 1.60s, ExtEval 0.22s][Train throughput: 216480.72/s]\n",
      "EarlyStopping: ES patience 3 remaining. LR patience (3) ran out. Current/best loss: 0.8236@eval30 / 0.8235@eval23\n",
      "LR updated: from 0.000343 to 0.00024009999999999998, lr_decay_count=4 (max=5)\n",
      "E3 B422 C31: [loss] 0.8178/0.8235 (train/val) [ndcg@5] 0.3353/0.3242 (train/val) [ndcg@10] 0.4069/0.4067 (train/val) \n",
      "Time elapsed in epoch: 5.54s. Time elapsed in eval 2.73s.\n",
      "[Train: 1.00s, IntEval 1.52s, ExtEval 0.21s][Train throughput: 216164.70/s]\n",
      "EarlyStopping: ES patience 2 remaining. LR patience (3) ran out. Current/best loss: 0.8235@eval31 / 0.8235@eval23\n",
      "LR updated: from 0.00024009999999999998 to 0.00016806999999999998, lr_decay_count=5 (max=5)\n",
      "LR decay count max reached (5), stopping\n",
      "Early stopping condition met.\n"
     ]
    }
   ],
   "source": [
    "mt.train()"
   ]
  },
  {
   "cell_type": "code",
   "execution_count": 21,
   "metadata": {
    "ExecuteTime": {
     "end_time": "2019-06-23T15:33:33.106906Z",
     "start_time": "2019-06-23T15:33:33.079937Z"
    }
   },
   "outputs": [
    {
     "name": "stdout",
     "output_type": "stream",
     "text": [
      "E3 B422 C32: [loss] 0.8178/0.8235 (train/val) [ndcg@5] 0.3353/0.3242 (train/val) [ndcg@10] 0.4069/0.4067 (train/val) \n"
     ]
    }
   ],
   "source": [
    "mt.print_latest_metrics()"
   ]
  },
  {
   "cell_type": "code",
   "execution_count": 22,
   "metadata": {
    "ExecuteTime": {
     "end_time": "2019-06-23T15:33:33.610133Z",
     "start_time": "2019-06-23T15:33:33.108154Z"
    }
   },
   "outputs": [
    {
     "data": {
      "image/png": "[encoded data removed]",
      "text/plain": [
       "<Figure size 432x288 with 1 Axes>"
      ]
     },
     "metadata": {
      "needs_background": "light"
     },
     "output_type": "display_data"
    },
    {
     "data": {
      "image/png": "[encoded data removed]",
      "text/plain": [
       "<Figure size 432x288 with 1 Axes>"
      ]
     },
     "metadata": {
      "needs_background": "light"
     },
     "output_type": "display_data"
    },
    {
     "data": {
      "image/png": "[encoded data removed]",
      "text/plain": [
       "<Figure size 432x288 with 1 Axes>"
      ]
     },
     "metadata": {
      "needs_background": "light"
     },
     "output_type": "display_data"
    }
   ],
   "source": [
    "%matplotlib inline\n",
    "mt.plot_all_metrics()"
   ]
  },
  {
   "cell_type": "markdown",
   "metadata": {},
   "source": [
    "# Load trained model and make predictions on test set"
   ]
  },
  {
   "cell_type": "code",
   "execution_count": 23,
   "metadata": {
    "ExecuteTime": {
     "end_time": "2019-06-23T15:33:33.639540Z",
     "start_time": "2019-06-23T15:33:33.611809Z"
    }
   },
   "outputs": [
    {
     "name": "stdout",
     "output_type": "stream",
     "text": [
      "Hyperparameters:\n",
      "{'mlp_act': 'softrelu',\n",
      " 'mlp_layers': [5,\n",
      "                5],\n",
      " 'output_act': None}\n"
     ]
    }
   ],
   "source": [
    "# instantiated a new model\n",
    "mlp2 = ModelMLP(hp)\n",
    "model2 = RankNet(mlp2)"
   ]
  },
  {
   "cell_type": "code",
   "execution_count": 24,
   "metadata": {
    "ExecuteTime": {
     "end_time": "2019-06-23T15:33:33.667291Z",
     "start_time": "2019-06-23T15:33:33.640779Z"
    }
   },
   "outputs": [
    {
     "data": {
      "text/plain": [
       "'/Users/ran.ding/model_results/EQJFGRB3_inharmonious-interception/EQJFGRB3_inharmonious-interception_model_ES.params'"
      ]
     },
     "execution_count": 24,
     "metadata": {},
     "output_type": "execute_result"
    }
   ],
   "source": [
    "mt.ES.restore_path"
   ]
  },
  {
   "cell_type": "code",
   "execution_count": 25,
   "metadata": {
    "ExecuteTime": {
     "end_time": "2019-06-23T15:33:33.696399Z",
     "start_time": "2019-06-23T15:33:33.668593Z"
    }
   },
   "outputs": [],
   "source": [
    "model2.load_parameters(mt.ES.restore_path)"
   ]
  },
  {
   "cell_type": "code",
   "execution_count": 26,
   "metadata": {
    "ExecuteTime": {
     "end_time": "2019-06-23T15:33:33.756296Z",
     "start_time": "2019-06-23T15:33:33.697648Z"
    }
   },
   "outputs": [
    {
     "name": "stdout",
     "output_type": "stream",
     "text": [
      "0.39202710051664014\n"
     ]
    }
   ],
   "source": [
    "ndcg_func=ndcg(10)\n",
    "qid_list = test_qid\n",
    "\n",
    "ndcgs = []\n",
    "for qid in qid_list:\n",
    "    test_score = model2.scorer(mx.nd.array(data_lists[qid]['X']))\n",
    "    tmp = ndcg_func(y_true=data_lists[qid]['y'], y_pred=test_score.asnumpy())\n",
    "    ndcgs.append(tmp)\n",
    "print(np.mean(ndcgs))"
   ]
  }
 ],
 "metadata": {
  "kernelspec": {
   "display_name": "Python 3",
   "language": "python",
   "name": "python3"
  },
  "language_info": {
   "codemirror_mode": {
    "name": "ipython",
    "version": 3
   },
   "file_extension": ".py",
   "mimetype": "text/x-python",
   "name": "python",
   "nbconvert_exporter": "python",
   "pygments_lexer": "ipython3",
   "version": "3.7.3"
  }
 },
 "nbformat": 4,
 "nbformat_minor": 2
}
