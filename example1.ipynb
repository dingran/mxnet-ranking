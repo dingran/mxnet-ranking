{
 "cells": [
  {
   "cell_type": "code",
   "execution_count": 1,
   "metadata": {
    "ExecuteTime": {
     "end_time": "2019-06-23T14:02:11.961439Z",
     "start_time": "2019-06-23T14:02:11.943630Z"
    }
   },
   "outputs": [],
   "source": [
    "%load_ext autoreload\n",
    "%autoreload 2"
   ]
  },
  {
   "cell_type": "code",
   "execution_count": 2,
   "metadata": {
    "ExecuteTime": {
     "end_time": "2019-06-23T14:02:12.947403Z",
     "start_time": "2019-06-23T14:02:11.962920Z"
    }
   },
   "outputs": [],
   "source": [
    "import numpy as np\n",
    "import mxnet as mx\n",
    "from mxnet import gluon\n",
    "import pandas as pd\n",
    "import matplotlib.pyplot as plt\n",
    "from tqdm import tqdm\n",
    "import random\n",
    "import math\n",
    "\n",
    "import sys\n",
    "import os\n",
    "module_path = os.path.abspath(os.path.join('./'))\n",
    "if module_path not in sys.path:\n",
    "    sys.path.append(module_path)"
   ]
  },
  {
   "cell_type": "markdown",
   "metadata": {
    "ExecuteTime": {
     "end_time": "2019-06-23T13:06:42.221477Z",
     "start_time": "2019-06-23T13:06:41.358Z"
    }
   },
   "source": [
    "### Load example data; the data is from https://github.com/AmgadMansour/RankNET"
   ]
  },
  {
   "cell_type": "code",
   "execution_count": 3,
   "metadata": {
    "ExecuteTime": {
     "end_time": "2019-06-23T14:02:13.238309Z",
     "start_time": "2019-06-23T14:02:12.949068Z"
    }
   },
   "outputs": [
    {
     "name": "stdout",
     "output_type": "stream",
     "text": [
      "(20005, 60)\n"
     ]
    }
   ],
   "source": [
    "data = pd.read_csv('data/example1//article_train_clean.csv',index_col=False)\n",
    "print(data.shape)\n",
    "data.rename(columns={'Unnamed: 0':'article_id','shared':'n_shares',}, inplace=True)\n",
    "#Set article_id as index of the data frame (its values are used as labels for rows)\n",
    "data.set_index('article_id',inplace=True)"
   ]
  },
  {
   "cell_type": "code",
   "execution_count": 4,
   "metadata": {
    "ExecuteTime": {
     "end_time": "2019-06-23T14:02:13.609240Z",
     "start_time": "2019-06-23T14:02:13.239492Z"
    }
   },
   "outputs": [
    {
     "name": "stdout",
     "output_type": "stream",
     "text": [
      "20005\n"
     ]
    }
   ],
   "source": [
    "q_col = pd.read_excel('data/example1/query_column.xlsx')\n",
    "q_col = q_col['q_id'].tolist()\n",
    "print(len(q_col))\n",
    "data.insert(1, 'q_id',q_col)"
   ]
  },
  {
   "cell_type": "code",
   "execution_count": 5,
   "metadata": {
    "ExecuteTime": {
     "end_time": "2019-06-23T14:02:13.642604Z",
     "start_time": "2019-06-23T14:02:13.610516Z"
    }
   },
   "outputs": [
    {
     "name": "stdout",
     "output_type": "stream",
     "text": [
      "n_shares    1100.000000\n",
      "q_id           2.000000\n",
      "c1             0.333333\n",
      "Name: 46, dtype: float64\n"
     ]
    }
   ],
   "source": [
    "#making sure data is loaded correctly\n",
    "#qid_1(1-24)\n",
    "#qid_2(25-46)--last n_shares = 1100\n",
    "#qid_3(47-..)--first n_shares = 776\n",
    "art_id = 46\n",
    "print(data.loc[art_id , ['n_shares', 'q_id','c1'] ])\n",
    "nq = data['q_id'].nunique()  # 360 total queries"
   ]
  },
  {
   "cell_type": "code",
   "execution_count": 6,
   "metadata": {
    "ExecuteTime": {
     "end_time": "2019-06-23T14:02:13.807271Z",
     "start_time": "2019-06-23T14:02:13.643752Z"
    }
   },
   "outputs": [],
   "source": [
    "X_test = data.query('1 <= q_id <= 72')\n",
    "X_train = data.query('73 <= q_id <= 288')\n",
    "y_test =  X_test.loc[:,['n_shares','q_id']]\n",
    "X_test = X_test.drop([\"n_shares\"], axis = 1)\n",
    "y_train =  X_train.loc[:,['n_shares','q_id']]\n",
    "X_train = X_train.drop([\"n_shares\"], axis = 1)"
   ]
  },
  {
   "cell_type": "markdown",
   "metadata": {},
   "source": [
    "# Training data prep"
   ]
  },
  {
   "cell_type": "code",
   "execution_count": 7,
   "metadata": {
    "ExecuteTime": {
     "end_time": "2019-06-23T14:02:14.139032Z",
     "start_time": "2019-06-23T14:02:13.808401Z"
    }
   },
   "outputs": [],
   "source": [
    "train_qid = X_train.q_id.unique()\n",
    "val_qid = X_test.q_id.unique()\n",
    "\n",
    "data_lists = dict()\n",
    "\n",
    "for qid in train_qid:\n",
    "    data_lists[qid] = dict()\n",
    "    data_lists[qid]['X'] = X_train[X_train['q_id'] == qid].drop([\"q_id\"], axis=1).values.astype('float32')\n",
    "    data_lists[qid]['y'] = y_train[y_train['q_id'] == qid]['n_shares'].values.astype('float32')\n",
    "\n",
    "for qid in val_qid:\n",
    "    data_lists[qid] = dict()\n",
    "    data_lists[qid]['X'] = X_test[X_test['q_id'] == qid].drop([\"q_id\"], axis=1).values.astype('float32')\n",
    "    data_lists[qid]['y'] = y_test[y_test['q_id'] == qid]['n_shares'].values.astype('float32')"
   ]
  },
  {
   "cell_type": "code",
   "execution_count": 8,
   "metadata": {
    "ExecuteTime": {
     "end_time": "2019-06-23T14:02:14.164398Z",
     "start_time": "2019-06-23T14:02:14.140312Z"
    }
   },
   "outputs": [
    {
     "name": "stdout",
     "output_type": "stream",
     "text": [
      "288\n"
     ]
    }
   ],
   "source": [
    "print(len(data_lists))"
   ]
  },
  {
   "cell_type": "code",
   "execution_count": 9,
   "metadata": {
    "ExecuteTime": {
     "end_time": "2019-06-23T14:02:18.329492Z",
     "start_time": "2019-06-23T14:02:14.165545Z"
    }
   },
   "outputs": [
    {
     "name": "stdout",
     "output_type": "stream",
     "text": [
      "n_train 1080000\n",
      "n_val 360000\n"
     ]
    }
   ],
   "source": [
    "from rank_utils.data import list2pairs, batcify_func\n",
    "n_samples = 5000\n",
    "\n",
    "train_pairs = []\n",
    "for qid in train_qid:\n",
    "    train_pairs += list2pairs(data_lists[qid]['X'], data_lists[qid]['y'], n_samples)\n",
    "\n",
    "val_pairs = []\n",
    "for qid in val_qid:\n",
    "    val_pairs += list2pairs(data_lists[qid]['X'], data_lists[qid]['y'], n_samples)\n",
    "\n",
    "print('n_train', len(train_pairs))\n",
    "print('n_val', len(val_pairs))"
   ]
  },
  {
   "cell_type": "code",
   "execution_count": 10,
   "metadata": {
    "ExecuteTime": {
     "end_time": "2019-06-23T14:02:18.376995Z",
     "start_time": "2019-06-23T14:02:18.330557Z"
    }
   },
   "outputs": [],
   "source": [
    "batch_size = 1024\n",
    "\n",
    "train_ds = gluon.data.SimpleDataset(train_pairs)\n",
    "train_iter = gluon.data.DataLoader(train_ds, batch_size=batch_size, batchify_fn=batcify_func,\n",
    "                                      shuffle=True, num_workers=1, last_batch='discard')\n",
    "val_ds = gluon.data.SimpleDataset(val_pairs)\n",
    "val_iter = gluon.data.DataLoader(val_ds, batch_size=batch_size, batchify_fn=batcify_func,\n",
    "                                    shuffle=False, num_workers=1, last_batch='discard')"
   ]
  },
  {
   "cell_type": "markdown",
   "metadata": {},
   "source": [
    "# Simple training loop"
   ]
  },
  {
   "cell_type": "markdown",
   "metadata": {},
   "source": [
    "## Model definition"
   ]
  },
  {
   "cell_type": "code",
   "execution_count": 11,
   "metadata": {
    "ExecuteTime": {
     "end_time": "2019-06-23T14:02:18.425400Z",
     "start_time": "2019-06-23T14:02:18.381616Z"
    }
   },
   "outputs": [
    {
     "name": "stdout",
     "output_type": "stream",
     "text": [
      "Hyperparameters:\n",
      "{'mlp_act': 'softrelu',\n",
      " 'mlp_layers': [5,\n",
      "                5],\n",
      " 'output_act': None}\n"
     ]
    }
   ],
   "source": [
    "from rank_utils.models import HParamsMLP, ModelMLP, RankNet\n",
    "hp = HParamsMLP(mlp_layers=[5,5])\n",
    "mlp = ModelMLP(hp)\n",
    "model = RankNet(mlp)"
   ]
  },
  {
   "cell_type": "markdown",
   "metadata": {},
   "source": [
    "## Model initialization and trainer setup"
   ]
  },
  {
   "cell_type": "code",
   "execution_count": 12,
   "metadata": {
    "ExecuteTime": {
     "end_time": "2019-06-23T14:02:18.456978Z",
     "start_time": "2019-06-23T14:02:18.427075Z"
    }
   },
   "outputs": [],
   "source": [
    "model_ctx = mx.cpu()  # can be mx.gpu(1), mx.gpu(2), etc\n",
    "model.collect_params().initialize(mx.init.Uniform(.01), ctx=model_ctx)"
   ]
  },
  {
   "cell_type": "code",
   "execution_count": 13,
   "metadata": {
    "ExecuteTime": {
     "end_time": "2019-06-23T14:02:18.487345Z",
     "start_time": "2019-06-23T14:02:18.458471Z"
    }
   },
   "outputs": [],
   "source": [
    "optimizer_name = 'adam'\n",
    "optimizer_settings = {'learning_rate': .001, 'wd': 0}\n",
    "trainer = gluon.Trainer(model.collect_params(), optimizer_name, optimizer_settings)"
   ]
  },
  {
   "cell_type": "markdown",
   "metadata": {},
   "source": [
    "## Training and evaluation loop"
   ]
  },
  {
   "cell_type": "code",
   "execution_count": 14,
   "metadata": {
    "ExecuteTime": {
     "end_time": "2019-06-23T14:02:42.671342Z",
     "start_time": "2019-06-23T14:02:18.488575Z"
    }
   },
   "outputs": [
    {
     "data": {
      "application/vnd.jupyter.widget-view+json": {
       "model_id": "3ff5059bbc6a406fb5694ac26a398265",
       "version_major": 2,
       "version_minor": 0
      },
      "text/plain": [
       "HBox(children=(IntProgress(value=0, max=1054), HTML(value='')))"
      ]
     },
     "metadata": {},
     "output_type": "display_data"
    },
    {
     "name": "stdout",
     "output_type": "stream",
     "text": [
      "\n",
      "epoch 0: loss (train) 0.8681; ndcg@10 (train): 0.39, ndcg@10 (val): 0.39\n"
     ]
    },
    {
     "data": {
      "application/vnd.jupyter.widget-view+json": {
       "model_id": "7f6309610c644b59bf8d84683740c840",
       "version_major": 2,
       "version_minor": 0
      },
      "text/plain": [
       "HBox(children=(IntProgress(value=0, max=1054), HTML(value='')))"
      ]
     },
     "metadata": {},
     "output_type": "display_data"
    },
    {
     "name": "stdout",
     "output_type": "stream",
     "text": [
      "\n",
      "epoch 1: loss (train) 0.8377; ndcg@10 (train): 0.40, ndcg@10 (val): 0.40\n"
     ]
    },
    {
     "data": {
      "application/vnd.jupyter.widget-view+json": {
       "model_id": "3ee8d24b69c743fbbac436241f31e86e",
       "version_major": 2,
       "version_minor": 0
      },
      "text/plain": [
       "HBox(children=(IntProgress(value=0, max=1054), HTML(value='')))"
      ]
     },
     "metadata": {},
     "output_type": "display_data"
    },
    {
     "name": "stdout",
     "output_type": "stream",
     "text": [
      "\n",
      "epoch 2: loss (train) 0.8308; ndcg@10 (train): 0.41, ndcg@10 (val): 0.41\n"
     ]
    },
    {
     "data": {
      "application/vnd.jupyter.widget-view+json": {
       "model_id": "f35af329060946f9878994037d0a6d08",
       "version_major": 2,
       "version_minor": 0
      },
      "text/plain": [
       "HBox(children=(IntProgress(value=0, max=1054), HTML(value='')))"
      ]
     },
     "metadata": {},
     "output_type": "display_data"
    },
    {
     "name": "stdout",
     "output_type": "stream",
     "text": [
      "\n",
      "epoch 3: loss (train) 0.8253; ndcg@10 (train): 0.41, ndcg@10 (val): 0.41\n"
     ]
    },
    {
     "data": {
      "application/vnd.jupyter.widget-view+json": {
       "model_id": "bd858f4d2ac54573ad7e1aebf24bcfcc",
       "version_major": 2,
       "version_minor": 0
      },
      "text/plain": [
       "HBox(children=(IntProgress(value=0, max=1054), HTML(value='')))"
      ]
     },
     "metadata": {},
     "output_type": "display_data"
    },
    {
     "name": "stdout",
     "output_type": "stream",
     "text": [
      "\n",
      "epoch 4: loss (train) 0.8211; ndcg@10 (train): 0.41, ndcg@10 (val): 0.41\n"
     ]
    }
   ],
   "source": [
    "from mxnet import autograd\n",
    "from tqdm import tqdm_notebook\n",
    "from rank_utils.evaluations import ndcg\n",
    "ndcg10 = ndcg(10)\n",
    "\n",
    "for epoch in range(5):\n",
    "\n",
    "    train_loss = []\n",
    "    for b in tqdm_notebook(train_iter):\n",
    "        with autograd.record():\n",
    "            loss = model(*b)\n",
    "        loss.backward()\n",
    "        trainer.step(batch_size)\n",
    "        train_loss.append(np.mean(loss.asnumpy()))\n",
    "\n",
    "    train_ndcgs = []\n",
    "    for qid in train_qid:\n",
    "        test_score = model.scorer(mx.nd.array(data_lists[qid]['X']))\n",
    "        tmp = ndcg10(y_true=data_lists[qid]['y'], y_pred=test_score.asnumpy())\n",
    "        train_ndcgs.append(tmp)\n",
    "\n",
    "    test_ndcgs = []\n",
    "    for qid in val_qid:\n",
    "        test_score = model.scorer(mx.nd.array(data_lists[qid]['X']))\n",
    "        tmp = ndcg10(y_true=data_lists[qid]['y'], y_pred=test_score.asnumpy())\n",
    "        test_ndcgs.append(tmp)\n",
    "\n",
    "    print(\n",
    "        'epoch {}: loss (train) {:.4f}; ndcg@10 (train): {:.2f}, ndcg@10 (val): {:.2f}'\n",
    "        .format(epoch, np.mean(train_loss), np.mean(train_ndcgs), np.mean(test_ndcgs)))"
   ]
  }
 ],
 "metadata": {
  "kernelspec": {
   "display_name": "Python 3",
   "language": "python",
   "name": "python3"
  },
  "language_info": {
   "codemirror_mode": {
    "name": "ipython",
    "version": 3
   },
   "file_extension": ".py",
   "mimetype": "text/x-python",
   "name": "python",
   "nbconvert_exporter": "python",
   "pygments_lexer": "ipython3",
   "version": "3.7.3"
  }
 },
 "nbformat": 4,
 "nbformat_minor": 2
}
